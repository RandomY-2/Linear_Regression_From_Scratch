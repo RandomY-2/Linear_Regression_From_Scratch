{
 "cells": [
  {
   "cell_type": "code",
   "execution_count": 1,
   "metadata": {
    "_cell_guid": "b1076dfc-b9ad-4769-8c92-a6c4dae69d19",
    "_uuid": "8f2839f25d086af736a60e9eeb907d3b93b6e0e5",
    "execution": {
     "iopub.execute_input": "2020-12-19T06:45:23.163693Z",
     "iopub.status.busy": "2020-12-19T06:45:23.162664Z",
     "iopub.status.idle": "2020-12-19T06:45:23.803876Z",
     "shell.execute_reply": "2020-12-19T06:45:23.803276Z"
    },
    "papermill": {
     "duration": 0.666802,
     "end_time": "2020-12-19T06:45:23.804005",
     "exception": false,
     "start_time": "2020-12-19T06:45:23.137203",
     "status": "completed"
    },
    "tags": []
   },
   "outputs": [
    {
     "name": "stdout",
     "output_type": "stream",
     "text": [
      "/kaggle/input/house-prices-advanced-regression-techniques/sample_submission.csv\n",
      "/kaggle/input/house-prices-advanced-regression-techniques/data_description.txt\n",
      "/kaggle/input/house-prices-advanced-regression-techniques/train.csv\n",
      "/kaggle/input/house-prices-advanced-regression-techniques/test.csv\n"
     ]
    }
   ],
   "source": [
    "# This Python 3 environment comes with many helpful analytics libraries installed\n",
    "# It is defined by the kaggle/python Docker image: https://github.com/kaggle/docker-python\n",
    "# For example, here's several helpful packages to load\n",
    "\n",
    "import numpy as np # linear algebra\n",
    "import pandas as pd # data processing, CSV file I/O (e.g. pd.read_csv)\n",
    "import matplotlib.pyplot as plt\n",
    "import matplotlib.animation as animation\n",
    "from scipy.optimize import minimize\n",
    "\n",
    "# Input data files are available in the read-only \"../input/\" directory\n",
    "# For example, running this (by clicking run or pressing Shift+Enter) will list all files under the input directory\n",
    "\n",
    "import os\n",
    "for dirname, _, filenames in os.walk('/kaggle/input'):\n",
    "    for filename in filenames:\n",
    "        print(os.path.join(dirname, filename))\n",
    "\n",
    "# You can write up to 20GB to the current directory (/kaggle/working/) that gets preserved as output when you create a version using \"Save & Run All\" \n",
    "# You can also write temporary files to /kaggle/temp/, but they won't be saved outside of the current session"
   ]
  },
  {
   "cell_type": "code",
   "execution_count": 2,
   "metadata": {
    "_cell_guid": "79c7e3d0-c299-4dcb-8224-4455121ee9b0",
    "_uuid": "d629ff2d2480ee46fbb7e2d37f6b5fab8052498a",
    "execution": {
     "iopub.execute_input": "2020-12-19T06:45:23.842653Z",
     "iopub.status.busy": "2020-12-19T06:45:23.841928Z",
     "iopub.status.idle": "2020-12-19T06:45:23.879361Z",
     "shell.execute_reply": "2020-12-19T06:45:23.879904Z"
    },
    "papermill": {
     "duration": 0.060215,
     "end_time": "2020-12-19T06:45:23.880077",
     "exception": false,
     "start_time": "2020-12-19T06:45:23.819862",
     "status": "completed"
    },
    "tags": []
   },
   "outputs": [],
   "source": [
    "full_data = pd.read_csv('/kaggle/input/house-prices-advanced-regression-techniques/train.csv')"
   ]
  },
  {
   "cell_type": "code",
   "execution_count": 3,
   "metadata": {
    "execution": {
     "iopub.execute_input": "2020-12-19T06:45:23.914436Z",
     "iopub.status.busy": "2020-12-19T06:45:23.913733Z",
     "iopub.status.idle": "2020-12-19T06:45:23.924235Z",
     "shell.execute_reply": "2020-12-19T06:45:23.924728Z"
    },
    "papermill": {
     "duration": 0.029442,
     "end_time": "2020-12-19T06:45:23.924885",
     "exception": false,
     "start_time": "2020-12-19T06:45:23.895443",
     "status": "completed"
    },
    "tags": []
   },
   "outputs": [],
   "source": [
    "X = full_data['GrLivArea']\n",
    "y = full_data['SalePrice']"
   ]
  },
  {
   "cell_type": "code",
   "execution_count": 4,
   "metadata": {
    "execution": {
     "iopub.execute_input": "2020-12-19T06:45:23.962704Z",
     "iopub.status.busy": "2020-12-19T06:45:23.961802Z",
     "iopub.status.idle": "2020-12-19T06:45:23.989709Z",
     "shell.execute_reply": "2020-12-19T06:45:23.990479Z"
    },
    "papermill": {
     "duration": 0.050195,
     "end_time": "2020-12-19T06:45:23.990650",
     "exception": false,
     "start_time": "2020-12-19T06:45:23.940455",
     "status": "completed"
    },
    "tags": []
   },
   "outputs": [],
   "source": [
    "X = (X - X.mean()) / X.std()\n",
    "X = np.c_[np.ones(X.shape[0]), X] "
   ]
  },
  {
   "cell_type": "code",
   "execution_count": 5,
   "metadata": {
    "execution": {
     "iopub.execute_input": "2020-12-19T06:45:24.044347Z",
     "iopub.status.busy": "2020-12-19T06:45:24.043354Z",
     "iopub.status.idle": "2020-12-19T06:45:24.522347Z",
     "shell.execute_reply": "2020-12-19T06:45:24.523041Z"
    },
    "papermill": {
     "duration": 0.508758,
     "end_time": "2020-12-19T06:45:24.523270",
     "exception": false,
     "start_time": "2020-12-19T06:45:24.014512",
     "status": "completed"
    },
    "tags": []
   },
   "outputs": [],
   "source": [
    "from sklearn.model_selection import train_test_split\n",
    "\n",
    "X_train, X_test, y_train, y_test = train_test_split(X, y, test_size=0.25, random_state=42)"
   ]
  },
  {
   "cell_type": "code",
   "execution_count": 6,
   "metadata": {
    "execution": {
     "iopub.execute_input": "2020-12-19T06:45:24.576970Z",
     "iopub.status.busy": "2020-12-19T06:45:24.575921Z",
     "iopub.status.idle": "2020-12-19T06:45:24.580381Z",
     "shell.execute_reply": "2020-12-19T06:45:24.579689Z"
    },
    "papermill": {
     "duration": 0.03308,
     "end_time": "2020-12-19T06:45:24.580526",
     "exception": false,
     "start_time": "2020-12-19T06:45:24.547446",
     "status": "completed"
    },
    "tags": []
   },
   "outputs": [],
   "source": [
    "learning_rate = 0.01\n",
    "iterations = 10000\n",
    "m = y_train.shape[0]\n",
    "theta = np.zeros(2)"
   ]
  },
  {
   "cell_type": "code",
   "execution_count": 7,
   "metadata": {
    "execution": {
     "iopub.execute_input": "2020-12-19T06:45:24.634559Z",
     "iopub.status.busy": "2020-12-19T06:45:24.633733Z",
     "iopub.status.idle": "2020-12-19T06:45:24.637099Z",
     "shell.execute_reply": "2020-12-19T06:45:24.636390Z"
    },
    "papermill": {
     "duration": 0.033095,
     "end_time": "2020-12-19T06:45:24.637217",
     "exception": false,
     "start_time": "2020-12-19T06:45:24.604122",
     "status": "completed"
    },
    "tags": []
   },
   "outputs": [],
   "source": [
    "def predict(X, theta):\n",
    "    return np.dot(X, theta)"
   ]
  },
  {
   "cell_type": "code",
   "execution_count": 8,
   "metadata": {
    "execution": {
     "iopub.execute_input": "2020-12-19T06:45:24.679813Z",
     "iopub.status.busy": "2020-12-19T06:45:24.677690Z",
     "iopub.status.idle": "2020-12-19T06:45:24.683758Z",
     "shell.execute_reply": "2020-12-19T06:45:24.684541Z"
    },
    "papermill": {
     "duration": 0.031734,
     "end_time": "2020-12-19T06:45:24.684684",
     "exception": false,
     "start_time": "2020-12-19T06:45:24.652950",
     "status": "completed"
    },
    "tags": []
   },
   "outputs": [],
   "source": [
    "def gradient_descent(X, y, theta, iterations, learning_rate):\n",
    "    losses = []\n",
    "    thetas = [theta]\n",
    "    for i in range(iterations):\n",
    "        y_pred = predict(X, theta)\n",
    "        error = y_pred - y\n",
    "        loss = 1/(2*m) * np.dot(error.T, error)\n",
    "        losses.append(loss)\n",
    "        theta = theta - (learning_rate * (1/m) * np.dot(X.T, error))\n",
    "        thetas.append(theta)\n",
    "        \n",
    "    return thetas, losses"
   ]
  },
  {
   "cell_type": "code",
   "execution_count": 9,
   "metadata": {
    "execution": {
     "iopub.execute_input": "2020-12-19T06:45:24.723275Z",
     "iopub.status.busy": "2020-12-19T06:45:24.722596Z",
     "iopub.status.idle": "2020-12-19T06:45:27.499555Z",
     "shell.execute_reply": "2020-12-19T06:45:27.500651Z"
    },
    "papermill": {
     "duration": 2.800262,
     "end_time": "2020-12-19T06:45:27.501022",
     "exception": false,
     "start_time": "2020-12-19T06:45:24.700760",
     "status": "completed"
    },
    "tags": []
   },
   "outputs": [],
   "source": [
    "thetas, losses = gradient_descent(X_train, y_train, theta, iterations, learning_rate)\n",
    "theta = thetas[-1]"
   ]
  },
  {
   "cell_type": "code",
   "execution_count": 10,
   "metadata": {
    "execution": {
     "iopub.execute_input": "2020-12-19T06:45:27.540939Z",
     "iopub.status.busy": "2020-12-19T06:45:27.540297Z",
     "iopub.status.idle": "2020-12-19T06:45:27.750857Z",
     "shell.execute_reply": "2020-12-19T06:45:27.750265Z"
    },
    "papermill": {
     "duration": 0.232847,
     "end_time": "2020-12-19T06:45:27.750970",
     "exception": false,
     "start_time": "2020-12-19T06:45:27.518123",
     "status": "completed"
    },
    "tags": []
   },
   "outputs": [
    {
     "data": {
      "image/png": "[encoded data removed]",
      "text/plain": [
       "<Figure size 432x288 with 1 Axes>"
      ]
     },
     "metadata": {
      "needs_background": "light"
     },
     "output_type": "display_data"
    }
   ],
   "source": [
    "plt.title('Cost Function J')\n",
    "plt.xlabel('No. of iterations')\n",
    "plt.ylabel('Cost')\n",
    "plt.plot(losses)\n",
    "plt.show()"
   ]
  },
  {
   "cell_type": "code",
   "execution_count": 11,
   "metadata": {
    "execution": {
     "iopub.execute_input": "2020-12-19T06:45:27.790597Z",
     "iopub.status.busy": "2020-12-19T06:45:27.789801Z",
     "iopub.status.idle": "2020-12-19T06:45:27.792977Z",
     "shell.execute_reply": "2020-12-19T06:45:27.792273Z"
    },
    "papermill": {
     "duration": 0.024962,
     "end_time": "2020-12-19T06:45:27.793118",
     "exception": false,
     "start_time": "2020-12-19T06:45:27.768156",
     "status": "completed"
    },
    "tags": []
   },
   "outputs": [],
   "source": [
    "Y_pred = theta[0] + theta[1] * X_test"
   ]
  },
  {
   "cell_type": "code",
   "execution_count": 12,
   "metadata": {
    "execution": {
     "iopub.execute_input": "2020-12-19T06:45:27.833279Z",
     "iopub.status.busy": "2020-12-19T06:45:27.832495Z",
     "iopub.status.idle": "2020-12-19T06:45:27.836799Z",
     "shell.execute_reply": "2020-12-19T06:45:27.836291Z"
    },
    "papermill": {
     "duration": 0.026675,
     "end_time": "2020-12-19T06:45:27.836923",
     "exception": false,
     "start_time": "2020-12-19T06:45:27.810248",
     "status": "completed"
    },
    "tags": []
   },
   "outputs": [],
   "source": [
    "X_test_draw = np.delete(X_test, 0, 1) "
   ]
  },
  {
   "cell_type": "code",
   "execution_count": 13,
   "metadata": {
    "execution": {
     "iopub.execute_input": "2020-12-19T06:45:27.876747Z",
     "iopub.status.busy": "2020-12-19T06:45:27.876028Z",
     "iopub.status.idle": "2020-12-19T06:45:27.880968Z",
     "shell.execute_reply": "2020-12-19T06:45:27.880276Z"
    },
    "papermill": {
     "duration": 0.026929,
     "end_time": "2020-12-19T06:45:27.881114",
     "exception": false,
     "start_time": "2020-12-19T06:45:27.854185",
     "status": "completed"
    },
    "tags": []
   },
   "outputs": [],
   "source": [
    "Y_pred_draw = np.delete(Y_pred, 0, 1)"
   ]
  },
  {
   "cell_type": "code",
   "execution_count": 14,
   "metadata": {
    "execution": {
     "iopub.execute_input": "2020-12-19T06:45:27.938155Z",
     "iopub.status.busy": "2020-12-19T06:45:27.921631Z",
     "iopub.status.idle": "2020-12-19T06:45:28.108896Z",
     "shell.execute_reply": "2020-12-19T06:45:28.107877Z"
    },
    "papermill": {
     "duration": 0.210598,
     "end_time": "2020-12-19T06:45:28.109010",
     "exception": false,
     "start_time": "2020-12-19T06:45:27.898412",
     "status": "completed"
    },
    "tags": []
   },
   "outputs": [
    {
     "data": {
      "image/png": "[encoded data removed]",
      "text/plain": [
       "<Figure size 432x288 with 1 Axes>"
      ]
     },
     "metadata": {
      "needs_background": "light"
     },
     "output_type": "display_data"
    }
   ],
   "source": [
    "plt.scatter(X_test_draw, y_test)\n",
    "plt.plot(X_test_draw, Y_pred_draw, color='red')\n",
    "plt.show()"
   ]
  },
  {
   "cell_type": "code",
   "execution_count": 15,
   "metadata": {
    "execution": {
     "iopub.execute_input": "2020-12-19T06:45:28.153800Z",
     "iopub.status.busy": "2020-12-19T06:45:28.152986Z",
     "iopub.status.idle": "2020-12-19T06:45:28.282016Z",
     "shell.execute_reply": "2020-12-19T06:45:28.281031Z"
    },
    "papermill": {
     "duration": 0.153539,
     "end_time": "2020-12-19T06:45:28.282193",
     "exception": false,
     "start_time": "2020-12-19T06:45:28.128654",
     "status": "completed"
    },
    "tags": []
   },
   "outputs": [],
   "source": [
    "from sklearn.linear_model import LinearRegression\n",
    "\n",
    "reg_model = LinearRegression()\n",
    "reg_model.fit(X_train, y_train)\n",
    "\n",
    "reg_pred = reg_model.predict(X_test)"
   ]
  },
  {
   "cell_type": "code",
   "execution_count": 16,
   "metadata": {
    "execution": {
     "iopub.execute_input": "2020-12-19T06:45:28.343517Z",
     "iopub.status.busy": "2020-12-19T06:45:28.342570Z",
     "iopub.status.idle": "2020-12-19T06:45:28.503976Z",
     "shell.execute_reply": "2020-12-19T06:45:28.503301Z"
    },
    "papermill": {
     "duration": 0.196722,
     "end_time": "2020-12-19T06:45:28.504123",
     "exception": false,
     "start_time": "2020-12-19T06:45:28.307401",
     "status": "completed"
    },
    "tags": []
   },
   "outputs": [
    {
     "data": {
      "image/png": "[encoded data removed]",
      "text/plain": [
       "<Figure size 432x288 with 1 Axes>"
      ]
     },
     "metadata": {
      "needs_background": "light"
     },
     "output_type": "display_data"
    }
   ],
   "source": [
    "plt.scatter(X_test_draw, y_test)\n",
    "plt.plot(X_test_draw, reg_pred, color='red')\n",
    "plt.show()"
   ]
  },
  {
   "cell_type": "code",
   "execution_count": 17,
   "metadata": {
    "execution": {
     "iopub.execute_input": "2020-12-19T06:45:28.551727Z",
     "iopub.status.busy": "2020-12-19T06:45:28.550697Z",
     "iopub.status.idle": "2020-12-19T06:45:28.557432Z",
     "shell.execute_reply": "2020-12-19T06:45:28.556705Z"
    },
    "papermill": {
     "duration": 0.033318,
     "end_time": "2020-12-19T06:45:28.557550",
     "exception": false,
     "start_time": "2020-12-19T06:45:28.524232",
     "status": "completed"
    },
    "tags": []
   },
   "outputs": [
    {
     "data": {
      "text/plain": [
       "array([    0.        , 53844.68407667])"
      ]
     },
     "execution_count": 17,
     "metadata": {},
     "output_type": "execute_result"
    }
   ],
   "source": [
    "reg_model.coef_"
   ]
  },
  {
   "cell_type": "code",
   "execution_count": 18,
   "metadata": {
    "execution": {
     "iopub.execute_input": "2020-12-19T06:45:28.605122Z",
     "iopub.status.busy": "2020-12-19T06:45:28.604107Z",
     "iopub.status.idle": "2020-12-19T06:45:28.607618Z",
     "shell.execute_reply": "2020-12-19T06:45:28.608332Z"
    },
    "papermill": {
     "duration": 0.030404,
     "end_time": "2020-12-19T06:45:28.608496",
     "exception": false,
     "start_time": "2020-12-19T06:45:28.578092",
     "status": "completed"
    },
    "tags": []
   },
   "outputs": [
    {
     "data": {
      "text/plain": [
       "array([180098.42294697,  53844.68407667])"
      ]
     },
     "execution_count": 18,
     "metadata": {},
     "output_type": "execute_result"
    }
   ],
   "source": [
    "theta"
   ]
  },
  {
   "cell_type": "code",
   "execution_count": 19,
   "metadata": {
    "execution": {
     "iopub.execute_input": "2020-12-19T06:45:28.678797Z",
     "iopub.status.busy": "2020-12-19T06:45:28.678077Z",
     "iopub.status.idle": "2020-12-19T06:45:28.683497Z",
     "shell.execute_reply": "2020-12-19T06:45:28.682927Z"
    },
    "papermill": {
     "duration": 0.044169,
     "end_time": "2020-12-19T06:45:28.683625",
     "exception": false,
     "start_time": "2020-12-19T06:45:28.639456",
     "status": "completed"
    },
    "tags": []
   },
   "outputs": [],
   "source": [
    "import math\n",
    "from sklearn.metrics import mean_squared_error\n",
    "\n",
    "def root_mean_squared_log_error(y_valid, y_preds):\n",
    "    \"\"\"Calculate root mean squared error of log(y_true) and log(y_pred)\"\"\"\n",
    "    if len(y_preds)!=len(y_valid): return 'error_mismatch'\n",
    "    y_preds_new = [math.log(x) for x in y_preds]\n",
    "    y_valid_new = [math.log(x) for x in y_valid]\n",
    "    return mean_squared_error(y_valid_new, y_preds_new, squared=False)"
   ]
  },
  {
   "cell_type": "code",
   "execution_count": 20,
   "metadata": {
    "execution": {
     "iopub.execute_input": "2020-12-19T06:45:28.732145Z",
     "iopub.status.busy": "2020-12-19T06:45:28.731440Z",
     "iopub.status.idle": "2020-12-19T06:45:28.736281Z",
     "shell.execute_reply": "2020-12-19T06:45:28.736761Z"
    },
    "papermill": {
     "duration": 0.032308,
     "end_time": "2020-12-19T06:45:28.736912",
     "exception": false,
     "start_time": "2020-12-19T06:45:28.704604",
     "status": "completed"
    },
    "tags": []
   },
   "outputs": [
    {
     "data": {
      "text/plain": [
       "0.2748269606496895"
      ]
     },
     "execution_count": 20,
     "metadata": {},
     "output_type": "execute_result"
    }
   ],
   "source": [
    "root_mean_squared_log_error(y_test, Y_pred_draw)"
   ]
  },
  {
   "cell_type": "code",
   "execution_count": 21,
   "metadata": {
    "execution": {
     "iopub.execute_input": "2020-12-19T06:45:28.786190Z",
     "iopub.status.busy": "2020-12-19T06:45:28.785188Z",
     "iopub.status.idle": "2020-12-19T06:45:28.790505Z",
     "shell.execute_reply": "2020-12-19T06:45:28.789833Z"
    },
    "papermill": {
     "duration": 0.03233,
     "end_time": "2020-12-19T06:45:28.790618",
     "exception": false,
     "start_time": "2020-12-19T06:45:28.758288",
     "status": "completed"
    },
    "tags": []
   },
   "outputs": [
    {
     "data": {
      "text/plain": [
       "0.27482696064969087"
      ]
     },
     "execution_count": 21,
     "metadata": {},
     "output_type": "execute_result"
    }
   ],
   "source": [
    "root_mean_squared_log_error(y_test, reg_pred)"
   ]
  },
  {
   "cell_type": "code",
   "execution_count": null,
   "metadata": {
    "papermill": {
     "duration": 0.02076,
     "end_time": "2020-12-19T06:45:28.833085",
     "exception": false,
     "start_time": "2020-12-19T06:45:28.812325",
     "status": "completed"
    },
    "tags": []
   },
   "outputs": [],
   "source": []
  }
 ],
 "metadata": {
  "kernelspec": {
   "display_name": "Python 3",
   "language": "python",
   "name": "python3"
  },
  "language_info": {
   "codemirror_mode": {
    "name": "ipython",
    "version": 3
   },
   "file_extension": ".py",
   "mimetype": "text/x-python",
   "name": "python",
   "nbconvert_exporter": "python",
   "pygments_lexer": "ipython3",
   "version": "3.7.6"
  },
  "papermill": {
   "duration": 10.937942,
   "end_time": "2020-12-19T06:45:28.963594",
   "environment_variables": {},
   "exception": null,
   "input_path": "__notebook__.ipynb",
   "output_path": "__notebook__.ipynb",
   "parameters": {},
   "start_time": "2020-12-19T06:45:18.025652",
   "version": "2.1.0"
  }
 },
 "nbformat": 4,
 "nbformat_minor": 4
}
